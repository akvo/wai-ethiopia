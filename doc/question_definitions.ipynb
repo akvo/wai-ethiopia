{
 "cells": [
  {
   "cell_type": "code",
   "execution_count": 1,
   "metadata": {
    "ExecuteTime": {
     "end_time": "2021-11-16T18:41:25.723139Z",
     "start_time": "2021-11-16T18:41:24.869988Z"
    }
   },
   "outputs": [],
   "source": [
    "import pandas as pd\n",
    "import numpy as np\n",
    "from openpyxl import load_workbook\n",
    "from IPython.core.display import display, HTML\n",
    "from pathlib import Path\n",
    "import json"
   ]
  },
  {
   "cell_type": "code",
   "execution_count": 2,
   "metadata": {
    "ExecuteTime": {
     "end_time": "2021-11-16T18:41:25.742643Z",
     "start_time": "2021-11-16T18:41:25.728370Z"
    }
   },
   "outputs": [
    {
     "data": {
      "text/html": [
       "<style>/* title of columns */\n",
       "table {\n",
       "  min-width: 100%;\n",
       "}\n",
       "table.dataframe thead th {\n",
       "  font-size: 1.2em !important;\n",
       "  padding-top: 0.2em !important;\n",
       "  padding-bottom: 0.2em !important;\n",
       "}\n",
       "\n",
       "/* title of rows */\n",
       "table.dataframe tbody th {\n",
       "  font-size: 1.2em !important;\n",
       "  border: 1px solid black !important;\n",
       "}\n",
       "\n",
       "/* style for each cell */\n",
       "table.dataframe td {\n",
       "  font-size: 1.15em !important;\n",
       "  border: 1px solid black !important;\n",
       "}\n",
       "\n",
       "/* disable zebra-style */\n",
       "table.dataframe tbody tr {\n",
       "  background: white !important;\n",
       "}\n",
       "\n",
       "/* row color on hover */\n",
       "table.dataframe tbody tr:hover {\n",
       "  background: rgba(43, 137, 226, 0.144) !important;\n",
       "}\n",
       "\n",
       "/* Settings for slides */\n",
       "\n",
       ".present table.dataframe thead th {\n",
       "  font-size: 1.5em !important;\n",
       "}\n",
       "\n",
       ".present table.dataframe tbody th {\n",
       "  font-size: 1.5em !important;\n",
       "}\n",
       "\n",
       ".present table.dataframe td {\n",
       "  font-size: 1.3em !important;\n",
       "  vertical-align: top !important;\n",
       "}\n",
       "\n",
       ".present table.dataframe thead th {\n",
       "  border-bottom: none !important;\n",
       "  padding-top: 0.1em !important;\n",
       "  padding-bottom: 0.1em !important;\n",
       "}\n",
       "</style>"
      ],
      "text/plain": [
       "<IPython.core.display.HTML object>"
      ]
     },
     "execution_count": 2,
     "metadata": {},
     "output_type": "execute_result"
    }
   ],
   "source": [
    "css_rules = Path('dataframe.css').read_text()\n",
    "HTML('<style>' + css_rules + '</style>')"
   ]
  },
  {
   "cell_type": "code",
   "execution_count": 3,
   "metadata": {
    "ExecuteTime": {
     "end_time": "2021-11-16T18:41:25.760612Z",
     "start_time": "2021-11-16T18:41:25.752133Z"
    }
   },
   "outputs": [],
   "source": [
    "source = '../backend/source/baseline.xlsx'\n",
    "instance_name = 'wai-uganda'"
   ]
  },
  {
   "cell_type": "code",
   "execution_count": 4,
   "metadata": {
    "ExecuteTime": {
     "end_time": "2021-11-16T18:41:25.776304Z",
     "start_time": "2021-11-16T18:41:25.770781Z"
    }
   },
   "outputs": [],
   "source": [
    "def generate_json_file(data, name):\n",
    "    name = name.replace(\" \",\"_\").lower()\n",
    "    json_object = json.dumps(data, indent = 4)\n",
    "    with open(f\"../backend/source/{instance_name}/forms/{name}.json\", \"w\") as outfile:\n",
    "        outfile.write(json_object)"
   ]
  },
  {
   "cell_type": "code",
   "execution_count": 5,
   "metadata": {
    "ExecuteTime": {
     "end_time": "2021-11-16T18:41:25.810388Z",
     "start_time": "2021-11-16T18:41:25.779910Z"
    }
   },
   "outputs": [],
   "source": [
    "def get_definitions(data, form_name, location):\n",
    "    forms = []\n",
    "    jsonforms = []\n",
    "    metaforms = []\n",
    "    for index, col in enumerate(list(data)):\n",
    "        datatype = data[col].dtypes\n",
    "        formtype = \"text\"\n",
    "        options = None\n",
    "        meta = False\n",
    "        if datatype == int:\n",
    "            formtype = \"number\"\n",
    "        if datatype == np.float64:\n",
    "            formtype = \"number\"\n",
    "        if datatype == object:\n",
    "            test = data[col].dropna()\n",
    "            test = test.str.lower()\n",
    "            options = list(test.unique())\n",
    "            if len(options) > 8:\n",
    "                options = None\n",
    "                formtype = \"text\"\n",
    "            else:\n",
    "                formtype = \"option\"\n",
    "                if len(options) == 1:\n",
    "                    for yn in [\"yes\",\"no\"]:\n",
    "                        if options[0].lower() == yn:\n",
    "                            options = [\"yes\",\"no\"]\n",
    "                else:\n",
    "                    options = [str(o).lower() for o in options]\n",
    "        if col.strip().lower() in ['latitude','longitude']:\n",
    "            col = 'geolocation'\n",
    "            formtype = 'geo'\n",
    "        if col.strip().lower() in location:\n",
    "            formtype = 'administration'\n",
    "        cname = col.replace(\"_\",\" \").lower().strip()\n",
    "        if \"|\" in cname:\n",
    "            cname = cname.split(\"|\")[1].strip()\n",
    "        if \"name\" in cname:\n",
    "            meta = True\n",
    "        if formtype == \"option\":\n",
    "            option_with_color = [{\"name\":o, \"color\":None} for o in options]\n",
    "            jsonforms.append({\"order\": index + 1,\"question\": cname, \"type\": formtype, \"meta\": meta, \"options\": option_with_color})\n",
    "            for opt in options:\n",
    "                forms.append({\"ID\": index + 1,\"QUESTION\": cname, \"TYPE\": formtype.upper(), \"OPTIONS\": opt})\n",
    "        elif formtype in [\"geo\",\"administration\"]:\n",
    "            cname = formtype\n",
    "            if formtype == \"geo\":\n",
    "                cname += \"location\"\n",
    "            if formtype == \"administration\":\n",
    "                cname = \"location\"\n",
    "            if cname not in metaforms:\n",
    "                metaforms.append(cname)\n",
    "                jsonforms.append({\"order\": index + 1, \"question\": cname, \"type\": formtype, \"meta\": True, \"options\": None})\n",
    "                forms.append({\"ID\": index + 1,\"QUESTION\": cname, \"TYPE\": formtype.upper(), \"OPTIONS\": \" - \" })\n",
    "        else:\n",
    "            jsonforms.append({\"order\": index + 1,\"question\": cname, \"type\": formtype, \"meta\": meta, \"options\": None})\n",
    "            forms.append({\"ID\":  index + 1, \"QUESTION\": cname, \"TYPE\": formtype.upper(), \"OPTIONS\": \" - \"})\n",
    "    generate_json_file(jsonforms, form_name)\n",
    "    results = pd.DataFrame(forms).groupby(['ID','QUESTION','TYPE','OPTIONS']).first()\n",
    "    display(HTML(f\"<h1>{form_name}</h1>\"))\n",
    "    display(HTML(results.to_html()))\n",
    "    display(HTML(f\"<hr/>\"))\n",
    "    return results"
   ]
  },
  {
   "cell_type": "code",
   "execution_count": null,
   "metadata": {
    "ExecuteTime": {
     "start_time": "2021-11-16T18:41:24.858Z"
    },
    "scrolled": false
   },
   "outputs": [
    {
     "name": "stdout",
     "output_type": "stream",
     "text": [
      "['wai-uganda HH', 'wai-uganda Health', 'wai-uganda School', 'wai-uganda WP']\n"
     ]
    }
   ],
   "source": [
    "all_sheets = load_workbook(source, read_only=True).sheetnames\n",
    "sheets = list(filter(lambda x: instance_name in x, all_sheets))\n",
    "print(sheets)\n",
    "for sheet_index, sheet in enumerate(sheets):\n",
    "    data = pd.read_excel(source, sheet)\n",
    "    data.drop(data.filter(regex=\"Unnamed\"),axis=1, inplace=True)\n",
    "    sheet_name = f\"{sheet_index + 1}-{sheet}\".replace(instance_name,\"\").replace(\" \",\"\").lower()\n",
    "    get_definitions(data, f\"0{sheet_name}\", [\"district\",\"county\",\"sub-county\",\"parish\"])"
   ]
  },
  {
   "cell_type": "code",
   "execution_count": null,
   "metadata": {},
   "outputs": [],
   "source": []
  }
 ],
 "metadata": {
  "kernelspec": {
   "display_name": "Python 3",
   "language": "python",
   "name": "python3"
  },
  "language_info": {
   "codemirror_mode": {
    "name": "ipython",
    "version": 3
   },
   "file_extension": ".py",
   "mimetype": "text/x-python",
   "name": "python",
   "nbconvert_exporter": "python",
   "pygments_lexer": "ipython3",
   "version": "3.8.5"
  },
  "toc": {
   "base_numbering": 1,
   "nav_menu": {},
   "number_sections": true,
   "sideBar": true,
   "skip_h1_title": false,
   "title_cell": "Table of Contents",
   "title_sidebar": "Contents",
   "toc_cell": false,
   "toc_position": {},
   "toc_section_display": true,
   "toc_window_display": false
  }
 },
 "nbformat": 4,
 "nbformat_minor": 4
}
