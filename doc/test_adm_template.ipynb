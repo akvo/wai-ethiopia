{
 "cells": [
  {
   "cell_type": "code",
   "execution_count": 2,
   "metadata": {
    "ExecuteTime": {
     "end_time": "2021-11-02T16:37:59.357564Z",
     "start_time": "2021-11-02T16:37:58.577288Z"
    }
   },
   "outputs": [],
   "source": [
    "import pandas as pd\n",
    "import requests as r"
   ]
  },
  {
   "cell_type": "code",
   "execution_count": 3,
   "metadata": {
    "ExecuteTime": {
     "end_time": "2021-11-02T16:37:59.573229Z",
     "start_time": "2021-11-02T16:37:59.361963Z"
    }
   },
   "outputs": [],
   "source": [
    "adm = r.get(\"http://localhost:3000/api/administration\")\n",
    "df = pd.DataFrame(adm.json())\n",
    "df[\"parent\"] = df[\"parent\"].fillna(0).astype(int)\n",
    "dict_id = df.set_index('id').parent.to_dict()\n",
    "\n",
    "def get_parent_id(anc):\n",
    "    anc = [anc] if not isinstance(anc, list) else anc\n",
    "    if anc[-1] == 0:\n",
    "        return anc\n",
    "    else:\n",
    "        parent = get_parent_id([dict_id[anc[-1]]])\n",
    "        anc += parent\n",
    "        return anc\n",
    "\n",
    "dict_name = df.set_index('id').name.to_dict()\n",
    "df['path_id'] = df.id.apply(get_parent_id)\n",
    "df['parent'] = df.apply(\n",
    "    lambda x:\n",
    "    [dict_name[id_] for id_ in x.path_id if not (id_ == x.id or id_ == 0)],\n",
    "    axis=1)\n",
    "df['parent'] = df['parent'].apply(lambda x: \" | \".join(x))\n"
   ]
  },
  {
   "cell_type": "code",
   "execution_count": 5,
   "metadata": {
    "ExecuteTime": {
     "end_time": "2021-11-02T16:39:13.787175Z",
     "start_time": "2021-11-02T16:39:13.741360Z"
    }
   },
   "outputs": [],
   "source": [
    "df[[\"id\",\"parent\",\"name\"]].to_csv(\"../backend/source/administration-cascade.csv\", index=False)"
   ]
  }
 ],
 "metadata": {
  "kernelspec": {
   "display_name": "Python 3",
   "language": "python",
   "name": "python3"
  },
  "language_info": {
   "codemirror_mode": {
    "name": "ipython",
    "version": 3
   },
   "file_extension": ".py",
   "mimetype": "text/x-python",
   "name": "python",
   "nbconvert_exporter": "python",
   "pygments_lexer": "ipython3",
   "version": "3.8.5"
  },
  "toc": {
   "base_numbering": 1,
   "nav_menu": {},
   "number_sections": true,
   "sideBar": true,
   "skip_h1_title": false,
   "title_cell": "Table of Contents",
   "title_sidebar": "Contents",
   "toc_cell": false,
   "toc_position": {},
   "toc_section_display": true,
   "toc_window_display": false
  }
 },
 "nbformat": 4,
 "nbformat_minor": 4
}
